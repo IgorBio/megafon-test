{
 "cells": [
  {
   "cell_type": "code",
   "execution_count": 1,
   "metadata": {},
   "outputs": [],
   "source": [
    "import pandas as pd\n",
    "import numpy as np\n",
    "from sklearn.model_selection import train_test_split\n",
    "from sklearn import svm\n",
    "from sklearn.impute import SimpleImputer\n",
    "from sklearn.tree import DecisionTreeClassifier\n",
    "from sklearn.neighbors import KNeighborsClassifier\n",
    "from sklearn.ensemble import RandomForestClassifier, GradientBoostingClassifier, ExtraTreesClassifier, AdaBoostClassifier\n",
    "from xgboost import XGBClassifier\n",
    "from sklearn.metrics import f1_score\n",
    "from sklearn.preprocessing import StandardScaler\n",
    "from sklearn.decomposition import PCA"
   ]
  },
  {
   "cell_type": "markdown",
   "metadata": {},
   "source": [
    "## Первый взгляд"
   ]
  },
  {
   "cell_type": "code",
   "execution_count": 2,
   "metadata": {
    "scrolled": true
   },
   "outputs": [],
   "source": [
    "train = pd.read_csv(\"C:\\\\Users\\Я\\Documents\\P\\mgf\\contest_train.csv\",  engine='python')"
   ]
  },
  {
   "cell_type": "code",
   "execution_count": 3,
   "metadata": {},
   "outputs": [
    {
     "name": "stdout",
     "output_type": "stream",
     "text": [
      "<class 'pandas.core.frame.DataFrame'>\n",
      "RangeIndex: 24521 entries, 0 to 24520\n",
      "Columns: 262 entries, ID to FEATURE_259\n",
      "dtypes: float64(260), int64(2)\n",
      "memory usage: 49.0 MB\n"
     ]
    },
    {
     "data": {
      "text/html": [
       "<div>\n",
       "<style scoped>\n",
       "    .dataframe tbody tr th:only-of-type {\n",
       "        vertical-align: middle;\n",
       "    }\n",
       "\n",
       "    .dataframe tbody tr th {\n",
       "        vertical-align: top;\n",
       "    }\n",
       "\n",
       "    .dataframe thead th {\n",
       "        text-align: right;\n",
       "    }\n",
       "</style>\n",
       "<table border=\"1\" class=\"dataframe\">\n",
       "  <thead>\n",
       "    <tr style=\"text-align: right;\">\n",
       "      <th></th>\n",
       "      <th>ID</th>\n",
       "      <th>TARGET</th>\n",
       "      <th>FEATURE_0</th>\n",
       "      <th>FEATURE_1</th>\n",
       "      <th>FEATURE_2</th>\n",
       "      <th>FEATURE_3</th>\n",
       "      <th>FEATURE_4</th>\n",
       "      <th>FEATURE_5</th>\n",
       "      <th>FEATURE_6</th>\n",
       "      <th>FEATURE_7</th>\n",
       "      <th>...</th>\n",
       "      <th>FEATURE_250</th>\n",
       "      <th>FEATURE_251</th>\n",
       "      <th>FEATURE_252</th>\n",
       "      <th>FEATURE_253</th>\n",
       "      <th>FEATURE_254</th>\n",
       "      <th>FEATURE_255</th>\n",
       "      <th>FEATURE_256</th>\n",
       "      <th>FEATURE_257</th>\n",
       "      <th>FEATURE_258</th>\n",
       "      <th>FEATURE_259</th>\n",
       "    </tr>\n",
       "  </thead>\n",
       "  <tbody>\n",
       "    <tr>\n",
       "      <th>0</th>\n",
       "      <td>1053371037</td>\n",
       "      <td>1</td>\n",
       "      <td>2.0</td>\n",
       "      <td>2.0</td>\n",
       "      <td>0.0</td>\n",
       "      <td>0.0</td>\n",
       "      <td>0.0</td>\n",
       "      <td>0.0</td>\n",
       "      <td>0.0</td>\n",
       "      <td>-114.527812</td>\n",
       "      <td>...</td>\n",
       "      <td>39.0</td>\n",
       "      <td>2.0</td>\n",
       "      <td>223.118594</td>\n",
       "      <td>290.015143</td>\n",
       "      <td>1.0</td>\n",
       "      <td>1.0</td>\n",
       "      <td>0.0</td>\n",
       "      <td>1.0</td>\n",
       "      <td>2.0</td>\n",
       "      <td>2.0</td>\n",
       "    </tr>\n",
       "    <tr>\n",
       "      <th>1</th>\n",
       "      <td>76507184</td>\n",
       "      <td>0</td>\n",
       "      <td>1.0</td>\n",
       "      <td>1.0</td>\n",
       "      <td>0.0</td>\n",
       "      <td>0.0</td>\n",
       "      <td>1.0</td>\n",
       "      <td>0.0</td>\n",
       "      <td>0.0</td>\n",
       "      <td>329.828334</td>\n",
       "      <td>...</td>\n",
       "      <td>25.0</td>\n",
       "      <td>82.0</td>\n",
       "      <td>479.616045</td>\n",
       "      <td>611.651594</td>\n",
       "      <td>0.0</td>\n",
       "      <td>1.0</td>\n",
       "      <td>0.0</td>\n",
       "      <td>1.0</td>\n",
       "      <td>1.0</td>\n",
       "      <td>1.0</td>\n",
       "    </tr>\n",
       "    <tr>\n",
       "      <th>2</th>\n",
       "      <td>76753690</td>\n",
       "      <td>1</td>\n",
       "      <td>0.0</td>\n",
       "      <td>0.0</td>\n",
       "      <td>0.0</td>\n",
       "      <td>0.0</td>\n",
       "      <td>0.0</td>\n",
       "      <td>0.0</td>\n",
       "      <td>0.0</td>\n",
       "      <td>17.427338</td>\n",
       "      <td>...</td>\n",
       "      <td>119.0</td>\n",
       "      <td>0.0</td>\n",
       "      <td>352.268014</td>\n",
       "      <td>564.573421</td>\n",
       "      <td>1.0</td>\n",
       "      <td>1.0</td>\n",
       "      <td>0.0</td>\n",
       "      <td>1.0</td>\n",
       "      <td>1.0</td>\n",
       "      <td>1.0</td>\n",
       "    </tr>\n",
       "    <tr>\n",
       "      <th>3</th>\n",
       "      <td>1026167358</td>\n",
       "      <td>0</td>\n",
       "      <td>1.0</td>\n",
       "      <td>1.0</td>\n",
       "      <td>0.0</td>\n",
       "      <td>0.0</td>\n",
       "      <td>0.0</td>\n",
       "      <td>0.0</td>\n",
       "      <td>0.0</td>\n",
       "      <td>23.621397</td>\n",
       "      <td>...</td>\n",
       "      <td>1.0</td>\n",
       "      <td>0.0</td>\n",
       "      <td>410.524985</td>\n",
       "      <td>421.653876</td>\n",
       "      <td>1.0</td>\n",
       "      <td>0.0</td>\n",
       "      <td>0.0</td>\n",
       "      <td>1.0</td>\n",
       "      <td>2.0</td>\n",
       "      <td>2.0</td>\n",
       "    </tr>\n",
       "    <tr>\n",
       "      <th>4</th>\n",
       "      <td>7220095746</td>\n",
       "      <td>0</td>\n",
       "      <td>4.0</td>\n",
       "      <td>3.0</td>\n",
       "      <td>1.0</td>\n",
       "      <td>0.0</td>\n",
       "      <td>1.0</td>\n",
       "      <td>0.0</td>\n",
       "      <td>0.0</td>\n",
       "      <td>677.745861</td>\n",
       "      <td>...</td>\n",
       "      <td>21.0</td>\n",
       "      <td>0.0</td>\n",
       "      <td>439.171356</td>\n",
       "      <td>476.189288</td>\n",
       "      <td>1.0</td>\n",
       "      <td>1.0</td>\n",
       "      <td>0.0</td>\n",
       "      <td>1.0</td>\n",
       "      <td>1.0</td>\n",
       "      <td>1.0</td>\n",
       "    </tr>\n",
       "  </tbody>\n",
       "</table>\n",
       "<p>5 rows × 262 columns</p>\n",
       "</div>"
      ],
      "text/plain": [
       "           ID  TARGET  FEATURE_0  FEATURE_1  FEATURE_2  FEATURE_3  FEATURE_4  \\\n",
       "0  1053371037       1        2.0        2.0        0.0        0.0        0.0   \n",
       "1    76507184       0        1.0        1.0        0.0        0.0        1.0   \n",
       "2    76753690       1        0.0        0.0        0.0        0.0        0.0   \n",
       "3  1026167358       0        1.0        1.0        0.0        0.0        0.0   \n",
       "4  7220095746       0        4.0        3.0        1.0        0.0        1.0   \n",
       "\n",
       "   FEATURE_5  FEATURE_6   FEATURE_7     ...       FEATURE_250  FEATURE_251  \\\n",
       "0        0.0        0.0 -114.527812     ...              39.0          2.0   \n",
       "1        0.0        0.0  329.828334     ...              25.0         82.0   \n",
       "2        0.0        0.0   17.427338     ...             119.0          0.0   \n",
       "3        0.0        0.0   23.621397     ...               1.0          0.0   \n",
       "4        0.0        0.0  677.745861     ...              21.0          0.0   \n",
       "\n",
       "   FEATURE_252  FEATURE_253  FEATURE_254  FEATURE_255  FEATURE_256  \\\n",
       "0   223.118594   290.015143          1.0          1.0          0.0   \n",
       "1   479.616045   611.651594          0.0          1.0          0.0   \n",
       "2   352.268014   564.573421          1.0          1.0          0.0   \n",
       "3   410.524985   421.653876          1.0          0.0          0.0   \n",
       "4   439.171356   476.189288          1.0          1.0          0.0   \n",
       "\n",
       "   FEATURE_257  FEATURE_258  FEATURE_259  \n",
       "0          1.0          2.0          2.0  \n",
       "1          1.0          1.0          1.0  \n",
       "2          1.0          1.0          1.0  \n",
       "3          1.0          2.0          2.0  \n",
       "4          1.0          1.0          1.0  \n",
       "\n",
       "[5 rows x 262 columns]"
      ]
     },
     "execution_count": 3,
     "metadata": {},
     "output_type": "execute_result"
    }
   ],
   "source": [
    "train.info()\n",
    "train.head(5)"
   ]
  },
  {
   "cell_type": "markdown",
   "metadata": {},
   "source": [
    "## Разобъем датасет"
   ]
  },
  {
   "cell_type": "code",
   "execution_count": 4,
   "metadata": {},
   "outputs": [
    {
     "data": {
      "text/html": [
       "<div>\n",
       "<style scoped>\n",
       "    .dataframe tbody tr th:only-of-type {\n",
       "        vertical-align: middle;\n",
       "    }\n",
       "\n",
       "    .dataframe tbody tr th {\n",
       "        vertical-align: top;\n",
       "    }\n",
       "\n",
       "    .dataframe thead th {\n",
       "        text-align: right;\n",
       "    }\n",
       "</style>\n",
       "<table border=\"1\" class=\"dataframe\">\n",
       "  <thead>\n",
       "    <tr style=\"text-align: right;\">\n",
       "      <th></th>\n",
       "      <th>FEATURE_0</th>\n",
       "      <th>FEATURE_1</th>\n",
       "      <th>FEATURE_2</th>\n",
       "      <th>FEATURE_3</th>\n",
       "      <th>FEATURE_4</th>\n",
       "      <th>FEATURE_5</th>\n",
       "      <th>FEATURE_6</th>\n",
       "      <th>FEATURE_7</th>\n",
       "      <th>FEATURE_8</th>\n",
       "      <th>FEATURE_9</th>\n",
       "      <th>...</th>\n",
       "      <th>FEATURE_250</th>\n",
       "      <th>FEATURE_251</th>\n",
       "      <th>FEATURE_252</th>\n",
       "      <th>FEATURE_253</th>\n",
       "      <th>FEATURE_254</th>\n",
       "      <th>FEATURE_255</th>\n",
       "      <th>FEATURE_256</th>\n",
       "      <th>FEATURE_257</th>\n",
       "      <th>FEATURE_258</th>\n",
       "      <th>FEATURE_259</th>\n",
       "    </tr>\n",
       "  </thead>\n",
       "  <tbody>\n",
       "    <tr>\n",
       "      <th>0</th>\n",
       "      <td>2.0</td>\n",
       "      <td>2.0</td>\n",
       "      <td>0.0</td>\n",
       "      <td>0.0</td>\n",
       "      <td>0.0</td>\n",
       "      <td>0.0</td>\n",
       "      <td>0.0</td>\n",
       "      <td>-114.527812</td>\n",
       "      <td>-17.218055</td>\n",
       "      <td>0.0</td>\n",
       "      <td>...</td>\n",
       "      <td>39.0</td>\n",
       "      <td>2.0</td>\n",
       "      <td>223.118594</td>\n",
       "      <td>290.015143</td>\n",
       "      <td>1.0</td>\n",
       "      <td>1.0</td>\n",
       "      <td>0.0</td>\n",
       "      <td>1.0</td>\n",
       "      <td>2.0</td>\n",
       "      <td>2.0</td>\n",
       "    </tr>\n",
       "    <tr>\n",
       "      <th>1</th>\n",
       "      <td>1.0</td>\n",
       "      <td>1.0</td>\n",
       "      <td>0.0</td>\n",
       "      <td>0.0</td>\n",
       "      <td>1.0</td>\n",
       "      <td>0.0</td>\n",
       "      <td>0.0</td>\n",
       "      <td>329.828334</td>\n",
       "      <td>NaN</td>\n",
       "      <td>3.0</td>\n",
       "      <td>...</td>\n",
       "      <td>25.0</td>\n",
       "      <td>82.0</td>\n",
       "      <td>479.616045</td>\n",
       "      <td>611.651594</td>\n",
       "      <td>0.0</td>\n",
       "      <td>1.0</td>\n",
       "      <td>0.0</td>\n",
       "      <td>1.0</td>\n",
       "      <td>1.0</td>\n",
       "      <td>1.0</td>\n",
       "    </tr>\n",
       "    <tr>\n",
       "      <th>2</th>\n",
       "      <td>0.0</td>\n",
       "      <td>0.0</td>\n",
       "      <td>0.0</td>\n",
       "      <td>0.0</td>\n",
       "      <td>0.0</td>\n",
       "      <td>0.0</td>\n",
       "      <td>0.0</td>\n",
       "      <td>17.427338</td>\n",
       "      <td>-6.680747</td>\n",
       "      <td>0.0</td>\n",
       "      <td>...</td>\n",
       "      <td>119.0</td>\n",
       "      <td>0.0</td>\n",
       "      <td>352.268014</td>\n",
       "      <td>564.573421</td>\n",
       "      <td>1.0</td>\n",
       "      <td>1.0</td>\n",
       "      <td>0.0</td>\n",
       "      <td>1.0</td>\n",
       "      <td>1.0</td>\n",
       "      <td>1.0</td>\n",
       "    </tr>\n",
       "    <tr>\n",
       "      <th>3</th>\n",
       "      <td>1.0</td>\n",
       "      <td>1.0</td>\n",
       "      <td>0.0</td>\n",
       "      <td>0.0</td>\n",
       "      <td>0.0</td>\n",
       "      <td>0.0</td>\n",
       "      <td>0.0</td>\n",
       "      <td>23.621397</td>\n",
       "      <td>36.659534</td>\n",
       "      <td>0.0</td>\n",
       "      <td>...</td>\n",
       "      <td>1.0</td>\n",
       "      <td>0.0</td>\n",
       "      <td>410.524985</td>\n",
       "      <td>421.653876</td>\n",
       "      <td>1.0</td>\n",
       "      <td>0.0</td>\n",
       "      <td>0.0</td>\n",
       "      <td>1.0</td>\n",
       "      <td>2.0</td>\n",
       "      <td>2.0</td>\n",
       "    </tr>\n",
       "    <tr>\n",
       "      <th>4</th>\n",
       "      <td>4.0</td>\n",
       "      <td>3.0</td>\n",
       "      <td>1.0</td>\n",
       "      <td>0.0</td>\n",
       "      <td>1.0</td>\n",
       "      <td>0.0</td>\n",
       "      <td>0.0</td>\n",
       "      <td>677.745861</td>\n",
       "      <td>NaN</td>\n",
       "      <td>3.0</td>\n",
       "      <td>...</td>\n",
       "      <td>21.0</td>\n",
       "      <td>0.0</td>\n",
       "      <td>439.171356</td>\n",
       "      <td>476.189288</td>\n",
       "      <td>1.0</td>\n",
       "      <td>1.0</td>\n",
       "      <td>0.0</td>\n",
       "      <td>1.0</td>\n",
       "      <td>1.0</td>\n",
       "      <td>1.0</td>\n",
       "    </tr>\n",
       "  </tbody>\n",
       "</table>\n",
       "<p>5 rows × 260 columns</p>\n",
       "</div>"
      ],
      "text/plain": [
       "   FEATURE_0  FEATURE_1  FEATURE_2  FEATURE_3  FEATURE_4  FEATURE_5  \\\n",
       "0        2.0        2.0        0.0        0.0        0.0        0.0   \n",
       "1        1.0        1.0        0.0        0.0        1.0        0.0   \n",
       "2        0.0        0.0        0.0        0.0        0.0        0.0   \n",
       "3        1.0        1.0        0.0        0.0        0.0        0.0   \n",
       "4        4.0        3.0        1.0        0.0        1.0        0.0   \n",
       "\n",
       "   FEATURE_6   FEATURE_7  FEATURE_8  FEATURE_9     ...       FEATURE_250  \\\n",
       "0        0.0 -114.527812 -17.218055        0.0     ...              39.0   \n",
       "1        0.0  329.828334        NaN        3.0     ...              25.0   \n",
       "2        0.0   17.427338  -6.680747        0.0     ...             119.0   \n",
       "3        0.0   23.621397  36.659534        0.0     ...               1.0   \n",
       "4        0.0  677.745861        NaN        3.0     ...              21.0   \n",
       "\n",
       "   FEATURE_251  FEATURE_252  FEATURE_253  FEATURE_254  FEATURE_255  \\\n",
       "0          2.0   223.118594   290.015143          1.0          1.0   \n",
       "1         82.0   479.616045   611.651594          0.0          1.0   \n",
       "2          0.0   352.268014   564.573421          1.0          1.0   \n",
       "3          0.0   410.524985   421.653876          1.0          0.0   \n",
       "4          0.0   439.171356   476.189288          1.0          1.0   \n",
       "\n",
       "   FEATURE_256  FEATURE_257  FEATURE_258  FEATURE_259  \n",
       "0          0.0          1.0          2.0          2.0  \n",
       "1          0.0          1.0          1.0          1.0  \n",
       "2          0.0          1.0          1.0          1.0  \n",
       "3          0.0          1.0          2.0          2.0  \n",
       "4          0.0          1.0          1.0          1.0  \n",
       "\n",
       "[5 rows x 260 columns]"
      ]
     },
     "execution_count": 4,
     "metadata": {},
     "output_type": "execute_result"
    }
   ],
   "source": [
    "X = train.drop(['TARGET', 'ID'], axis=1) \n",
    "y = train.TARGET \n",
    "X.head()"
   ]
  },
  {
   "cell_type": "markdown",
   "metadata": {},
   "source": [
    "# Предварительная обработка"
   ]
  },
  {
   "cell_type": "markdown",
   "metadata": {},
   "source": [
    "### Найдем наиболее коррелирующие фичи:"
   ]
  },
  {
   "cell_type": "code",
   "execution_count": 5,
   "metadata": {},
   "outputs": [
    {
     "data": {
      "text/plain": [
       "['FEATURE_72',\n",
       " 'FEATURE_73',\n",
       " 'FEATURE_79',\n",
       " 'FEATURE_84',\n",
       " 'FEATURE_113',\n",
       " 'FEATURE_119',\n",
       " 'FEATURE_120',\n",
       " 'FEATURE_153',\n",
       " 'FEATURE_158',\n",
       " 'FEATURE_164',\n",
       " 'FEATURE_173',\n",
       " 'FEATURE_186',\n",
       " 'FEATURE_195',\n",
       " 'FEATURE_200',\n",
       " 'FEATURE_208',\n",
       " 'FEATURE_225',\n",
       " 'FEATURE_228',\n",
       " 'FEATURE_230',\n",
       " 'FEATURE_232',\n",
       " 'FEATURE_233',\n",
       " 'FEATURE_235',\n",
       " 'FEATURE_237',\n",
       " 'FEATURE_245',\n",
       " 'FEATURE_254']"
      ]
     },
     "execution_count": 5,
     "metadata": {},
     "output_type": "execute_result"
    }
   ],
   "source": [
    "corr_matrix = X.corr().abs() # матрица корреляции\n",
    "upper = corr_matrix.where(np.triu(np.ones(corr_matrix.shape), k=1).astype(np.bool)) # всё, что выше главной диагонали\n",
    "most_correlated = [column for column in upper.columns if any(upper[column] > 0.95)]\n",
    "most_correlated"
   ]
  },
  {
   "cell_type": "markdown",
   "metadata": {},
   "source": [
    "### и фичи с наибольшей потерей данных:"
   ]
  },
  {
   "cell_type": "code",
   "execution_count": 6,
   "metadata": {},
   "outputs": [
    {
     "data": {
      "text/html": [
       "<div>\n",
       "<style scoped>\n",
       "    .dataframe tbody tr th:only-of-type {\n",
       "        vertical-align: middle;\n",
       "    }\n",
       "\n",
       "    .dataframe tbody tr th {\n",
       "        vertical-align: top;\n",
       "    }\n",
       "\n",
       "    .dataframe thead th {\n",
       "        text-align: right;\n",
       "    }\n",
       "</style>\n",
       "<table border=\"1\" class=\"dataframe\">\n",
       "  <thead>\n",
       "    <tr style=\"text-align: right;\">\n",
       "      <th></th>\n",
       "      <th>percent_missing</th>\n",
       "    </tr>\n",
       "  </thead>\n",
       "  <tbody>\n",
       "    <tr>\n",
       "      <th>FEATURE_189</th>\n",
       "      <td>98.674605</td>\n",
       "    </tr>\n",
       "    <tr>\n",
       "      <th>FEATURE_194</th>\n",
       "      <td>70.327474</td>\n",
       "    </tr>\n",
       "    <tr>\n",
       "      <th>FEATURE_190</th>\n",
       "      <td>70.111333</td>\n",
       "    </tr>\n",
       "    <tr>\n",
       "      <th>FEATURE_191</th>\n",
       "      <td>62.432201</td>\n",
       "    </tr>\n",
       "    <tr>\n",
       "      <th>FEATURE_192</th>\n",
       "      <td>53.260471</td>\n",
       "    </tr>\n",
       "    <tr>\n",
       "      <th>FEATURE_193</th>\n",
       "      <td>51.368215</td>\n",
       "    </tr>\n",
       "    <tr>\n",
       "      <th>FEATURE_187</th>\n",
       "      <td>48.440113</td>\n",
       "    </tr>\n",
       "    <tr>\n",
       "      <th>FEATURE_71</th>\n",
       "      <td>12.071286</td>\n",
       "    </tr>\n",
       "    <tr>\n",
       "      <th>FEATURE_73</th>\n",
       "      <td>12.071286</td>\n",
       "    </tr>\n",
       "    <tr>\n",
       "      <th>FEATURE_195</th>\n",
       "      <td>11.365768</td>\n",
       "    </tr>\n",
       "  </tbody>\n",
       "</table>\n",
       "</div>"
      ],
      "text/plain": [
       "             percent_missing\n",
       "FEATURE_189        98.674605\n",
       "FEATURE_194        70.327474\n",
       "FEATURE_190        70.111333\n",
       "FEATURE_191        62.432201\n",
       "FEATURE_192        53.260471\n",
       "FEATURE_193        51.368215\n",
       "FEATURE_187        48.440113\n",
       "FEATURE_71         12.071286\n",
       "FEATURE_73         12.071286\n",
       "FEATURE_195        11.365768"
      ]
     },
     "execution_count": 6,
     "metadata": {},
     "output_type": "execute_result"
    }
   ],
   "source": [
    "percent_missing = X.isnull().sum() * 100 / len(X)\n",
    "missing_value_df = pd.DataFrame({'percent_missing': percent_missing})\n",
    "missing_value_df.sort_values('percent_missing', inplace=True, ascending = False)\n",
    "missing_value_df[:10]"
   ]
  },
  {
   "cell_type": "markdown",
   "metadata": {},
   "source": [
    "### В семи случаях - большая потеря данных"
   ]
  },
  {
   "cell_type": "code",
   "execution_count": 7,
   "metadata": {},
   "outputs": [],
   "source": [
    "missing_features = ['FEATURE_190', 'FEATURE_194', 'FEATURE_189', 'FEATURE_191', 'FEATURE_192', 'FEATURE_193', 'FEATURE_187']"
   ]
  },
  {
   "cell_type": "markdown",
   "metadata": {},
   "source": [
    "## Удалим сильно коррелирующие столбцы и столбцы с большой потерей данных:"
   ]
  },
  {
   "cell_type": "code",
   "execution_count": 8,
   "metadata": {},
   "outputs": [],
   "source": [
    "to_drop = missing_features + most_correlated \n",
    "X.drop(to_drop, axis=1, inplace=True)"
   ]
  },
  {
   "cell_type": "markdown",
   "metadata": {},
   "source": [
    "## Разобьем данные:"
   ]
  },
  {
   "cell_type": "code",
   "execution_count": 9,
   "metadata": {},
   "outputs": [],
   "source": [
    "train_X, val_X, train_y, val_y = train_test_split(X, y, random_state = 0) "
   ]
  },
  {
   "cell_type": "markdown",
   "metadata": {},
   "source": [
    "## Заменим NaN с помощью SimpleImputer:"
   ]
  },
  {
   "cell_type": "code",
   "execution_count": 10,
   "metadata": {},
   "outputs": [],
   "source": [
    "imputer = SimpleImputer() \n",
    "\n",
    "imputed_train_X = pd.DataFrame(imputer.fit_transform(train_X))\n",
    "imputed_train_X.columns = train_X.columns\n",
    "\n",
    "imputed_val_X = pd.DataFrame(imputer.fit_transform(val_X))\n",
    "imputed_val_X.columns = val_X.columns"
   ]
  },
  {
   "cell_type": "markdown",
   "metadata": {},
   "source": [
    "## и прошкалируем:"
   ]
  },
  {
   "cell_type": "code",
   "execution_count": 11,
   "metadata": {},
   "outputs": [],
   "source": [
    "scaler = StandardScaler()\n",
    "scaler.fit(imputed_train_X)\n",
    "scale_train_X = scaler.transform(imputed_train_X)\n",
    "\n",
    "scaler.fit(imputed_val_X)\n",
    "scale_val_X = scaler.transform(imputed_val_X)"
   ]
  },
  {
   "cell_type": "markdown",
   "metadata": {},
   "source": [
    "## Попробуем несколько классификаторов и выберем оптимальный."
   ]
  },
  {
   "cell_type": "code",
   "execution_count": 12,
   "metadata": {},
   "outputs": [],
   "source": [
    "def models_score(trainx, trainy, valx, valy):\n",
    "    treemodel = DecisionTreeClassifier()# дерево\n",
    "    treemodel.fit(trainx, trainy)\n",
    "    tree_predictions = treemodel.predict(valx)\n",
    "    tree_score = f1_score(valy, tree_predictions, average='macro')\n",
    "    print('Decision Tree score:', tree_score)\n",
    "    \n",
    "    knn = KNeighborsClassifier() # метод ближайших соседей\n",
    "    knn.fit(trainx, trainy)\n",
    "    knn_pred = knn.predict(valx)\n",
    "    knn_score = f1_score(valy, knn_pred, average='macro')\n",
    "    print('KNN score:', knn_score)\n",
    "    \n",
    "    forest_model = RandomForestClassifier(random_state=0) # случайный лес\n",
    "    forest_model.fit(trainx, trainy)\n",
    "    forest_preds = forest_model.predict(valx)\n",
    "    forest_score = f1_score(valy, forest_preds, average='macro')\n",
    "    print('Random Forest score:', forest_score)\n",
    "    \n",
    "    gbclf = GradientBoostingClassifier(n_estimators=100) # градиентный буст\n",
    "    gbclf.fit(trainx, trainy)\n",
    "    gbclf_pred = gbclf.predict(valx)\n",
    "    gbclf_score = f1_score(valy, gbclf_pred, average='macro')\n",
    "    print('Gradient Boosting score:', gbclf_score)\n",
    "    \n",
    "    extratree = ExtraTreesClassifier(random_state=0) # экстра-деревья\n",
    "    extratree.fit(trainx, trainy)\n",
    "    extratree_pred = extratree.predict(valx)\n",
    "    extratree_score = f1_score(valy, extratree_pred, average='macro')\n",
    "    print('Extra Trees score:', extratree_score)\n",
    "    \n",
    "    adaboost = AdaBoostClassifier(random_state=0) #ada boost\n",
    "    adaboost.fit(trainx, trainy)\n",
    "    adaboost_pred = adaboost.predict(valx)\n",
    "    adaboost_score = f1_score(valy, adaboost_pred, average='macro')\n",
    "    print('Ada Boost score:', adaboost_score)\n",
    "    \n",
    "    xgbclf = XGBClassifier() # xgboost\n",
    "    xgbclf.fit(trainx, trainy)\n",
    "    xgb_pred = xgbclf.predict(valx)\n",
    "    xgb_score = f1_score(valy, xgb_pred, average='macro')\n",
    "    print('XGB score:', xgb_score)\n",
    "    \n",
    "    svmclf = svm.SVC() # Метод опорных векторов\n",
    "    svmclf.fit(trainx, trainy)\n",
    "    svm_pred = svmclf.predict(valx)\n",
    "    svm_score = f1_score(valy, svm_pred, average='macro')\n",
    "    print('SVM score:', svm_score)"
   ]
  },
  {
   "cell_type": "code",
   "execution_count": 13,
   "metadata": {
    "scrolled": true
   },
   "outputs": [
    {
     "name": "stdout",
     "output_type": "stream",
     "text": [
      "Decision Tree score: 0.42216311392635636\n",
      "KNN score: 0.38628335778114214\n"
     ]
    },
    {
     "name": "stderr",
     "output_type": "stream",
     "text": [
      "C:\\Anaconda\\lib\\site-packages\\sklearn\\ensemble\\forest.py:246: FutureWarning: The default value of n_estimators will change from 10 in version 0.20 to 100 in 0.22.\n",
      "  \"10 in version 0.20 to 100 in 0.22.\", FutureWarning)\n"
     ]
    },
    {
     "name": "stdout",
     "output_type": "stream",
     "text": [
      "Random Forest score: 0.39917864494544214\n",
      "Gradient Boosting score: 0.40442536619892194\n"
     ]
    },
    {
     "name": "stderr",
     "output_type": "stream",
     "text": [
      "C:\\Anaconda\\lib\\site-packages\\sklearn\\ensemble\\forest.py:246: FutureWarning: The default value of n_estimators will change from 10 in version 0.20 to 100 in 0.22.\n",
      "  \"10 in version 0.20 to 100 in 0.22.\", FutureWarning)\n"
     ]
    },
    {
     "name": "stdout",
     "output_type": "stream",
     "text": [
      "Extra Trees score: 0.4223333667074609\n",
      "Ada Boost score: 0.4270277319051934\n",
      "XGB score: 0.38149314011482344\n"
     ]
    },
    {
     "name": "stderr",
     "output_type": "stream",
     "text": [
      "C:\\Anaconda\\lib\\site-packages\\sklearn\\svm\\base.py:196: FutureWarning: The default value of gamma will change from 'auto' to 'scale' in version 0.22 to account better for unscaled features. Set gamma explicitly to 'auto' or 'scale' to avoid this warning.\n",
      "  \"avoid this warning.\", FutureWarning)\n"
     ]
    },
    {
     "name": "stdout",
     "output_type": "stream",
     "text": [
      "SVM score: 0.35417938835632046\n"
     ]
    }
   ],
   "source": [
    "models_score(scale_train_X, train_y, scale_val_X, val_y)"
   ]
  },
  {
   "cell_type": "markdown",
   "metadata": {},
   "source": [
    "## Попробуем уменьшить размерность с помощью метода главных компонент (РСА):"
   ]
  },
  {
   "cell_type": "code",
   "execution_count": 14,
   "metadata": {},
   "outputs": [],
   "source": [
    "pca = PCA(0.9) \n",
    "pca.fit(scale_train_X)\n",
    "pca_train_X = pca.transform(scale_train_X)\n",
    "pca_val_X = pca.transform(scale_val_X)"
   ]
  },
  {
   "cell_type": "markdown",
   "metadata": {},
   "source": [
    "## И посчитаем еще раз:"
   ]
  },
  {
   "cell_type": "code",
   "execution_count": 15,
   "metadata": {
    "scrolled": true
   },
   "outputs": [
    {
     "name": "stdout",
     "output_type": "stream",
     "text": [
      "Decision Tree score: 0.4169218156233208\n",
      "KNN score: 0.38845454841240556\n"
     ]
    },
    {
     "name": "stderr",
     "output_type": "stream",
     "text": [
      "C:\\Anaconda\\lib\\site-packages\\sklearn\\ensemble\\forest.py:246: FutureWarning: The default value of n_estimators will change from 10 in version 0.20 to 100 in 0.22.\n",
      "  \"10 in version 0.20 to 100 in 0.22.\", FutureWarning)\n"
     ]
    },
    {
     "name": "stdout",
     "output_type": "stream",
     "text": [
      "Random Forest score: 0.3661685884978614\n",
      "Gradient Boosting score: 0.396561080347364\n"
     ]
    },
    {
     "name": "stderr",
     "output_type": "stream",
     "text": [
      "C:\\Anaconda\\lib\\site-packages\\sklearn\\ensemble\\forest.py:246: FutureWarning: The default value of n_estimators will change from 10 in version 0.20 to 100 in 0.22.\n",
      "  \"10 in version 0.20 to 100 in 0.22.\", FutureWarning)\n"
     ]
    },
    {
     "name": "stdout",
     "output_type": "stream",
     "text": [
      "Extra Trees score: 0.35785611061247957\n",
      "Ada Boost score: 0.4108784030799442\n",
      "XGB score: 0.383303706972846\n"
     ]
    },
    {
     "name": "stderr",
     "output_type": "stream",
     "text": [
      "C:\\Anaconda\\lib\\site-packages\\sklearn\\svm\\base.py:196: FutureWarning: The default value of gamma will change from 'auto' to 'scale' in version 0.22 to account better for unscaled features. Set gamma explicitly to 'auto' or 'scale' to avoid this warning.\n",
      "  \"avoid this warning.\", FutureWarning)\n"
     ]
    },
    {
     "name": "stdout",
     "output_type": "stream",
     "text": [
      "SVM score: 0.36346118568224534\n"
     ]
    }
   ],
   "source": [
    "models_score(pca_train_X, train_y, pca_val_X, val_y)"
   ]
  },
  {
   "cell_type": "markdown",
   "metadata": {},
   "source": [
    "## Лучше всех себя показал AdaBoost без применения PCA. Будем использовать его."
   ]
  },
  {
   "cell_type": "markdown",
   "metadata": {},
   "source": [
    "# Тестовая выборка:"
   ]
  },
  {
   "cell_type": "code",
   "execution_count": 16,
   "metadata": {},
   "outputs": [],
   "source": [
    "test = pd.read_csv(\"C:\\\\Users\\Я\\Documents\\P\\mgf\\contest_test.csv\",  engine='python')\n",
    "ids = test['ID'].values\n",
    "test.drop(['ID'] + to_drop + missing_features, axis=1, inplace=True)"
   ]
  },
  {
   "cell_type": "markdown",
   "metadata": {},
   "source": [
    "## Аналогично заполним потери данных и прошкалируем:"
   ]
  },
  {
   "cell_type": "code",
   "execution_count": 17,
   "metadata": {},
   "outputs": [],
   "source": [
    "imputed_test_X = pd.DataFrame(imputer.fit_transform(test))\n",
    "imputed_test_X.columns = test.columns\n",
    "scaler.fit(imputed_test_X)\n",
    "scale_test_X = scaler.transform(imputed_test_X)"
   ]
  },
  {
   "cell_type": "markdown",
   "metadata": {},
   "source": [
    "## Модель:"
   ]
  },
  {
   "cell_type": "code",
   "execution_count": 18,
   "metadata": {},
   "outputs": [],
   "source": [
    "adaboost = AdaBoostClassifier(random_state=0)\n",
    "adaboost.fit(scale_train_X, train_y)\n",
    "adaboost_pred = adaboost.predict(scale_test_X)"
   ]
  },
  {
   "cell_type": "markdown",
   "metadata": {},
   "source": [
    "## Выгрузим в файл:"
   ]
  },
  {
   "cell_type": "code",
   "execution_count": 19,
   "metadata": {},
   "outputs": [],
   "source": [
    "output = pd.DataFrame({'ID': ids, 'TARGET': adaboost_pred})\n",
    "output.to_csv(\"contest_answer.csv\", index=False, sep=\",\")"
   ]
  },
  {
   "cell_type": "markdown",
   "metadata": {},
   "source": [
    "# Второе задание: "
   ]
  },
  {
   "cell_type": "markdown",
   "metadata": {},
   "source": [
    "## Для отбора записей, степень уверенности модели которых максимальна, воспользуемся predict_proba:"
   ]
  },
  {
   "cell_type": "code",
   "execution_count": 20,
   "metadata": {
    "scrolled": true
   },
   "outputs": [
    {
     "data": {
      "text/html": [
       "<div>\n",
       "<style scoped>\n",
       "    .dataframe tbody tr th:only-of-type {\n",
       "        vertical-align: middle;\n",
       "    }\n",
       "\n",
       "    .dataframe tbody tr th {\n",
       "        vertical-align: top;\n",
       "    }\n",
       "\n",
       "    .dataframe thead th {\n",
       "        text-align: right;\n",
       "    }\n",
       "</style>\n",
       "<table border=\"1\" class=\"dataframe\">\n",
       "  <thead>\n",
       "    <tr style=\"text-align: right;\">\n",
       "      <th></th>\n",
       "      <th>0</th>\n",
       "      <th>1</th>\n",
       "      <th>2</th>\n",
       "    </tr>\n",
       "  </thead>\n",
       "  <tbody>\n",
       "    <tr>\n",
       "      <th>0</th>\n",
       "      <td>0.344789</td>\n",
       "      <td>0.333262</td>\n",
       "      <td>0.321949</td>\n",
       "    </tr>\n",
       "    <tr>\n",
       "      <th>1</th>\n",
       "      <td>0.348719</td>\n",
       "      <td>0.340570</td>\n",
       "      <td>0.310710</td>\n",
       "    </tr>\n",
       "    <tr>\n",
       "      <th>2</th>\n",
       "      <td>0.352257</td>\n",
       "      <td>0.321147</td>\n",
       "      <td>0.326596</td>\n",
       "    </tr>\n",
       "    <tr>\n",
       "      <th>3</th>\n",
       "      <td>0.346394</td>\n",
       "      <td>0.339137</td>\n",
       "      <td>0.314469</td>\n",
       "    </tr>\n",
       "    <tr>\n",
       "      <th>4</th>\n",
       "      <td>0.344511</td>\n",
       "      <td>0.338538</td>\n",
       "      <td>0.316951</td>\n",
       "    </tr>\n",
       "  </tbody>\n",
       "</table>\n",
       "</div>"
      ],
      "text/plain": [
       "          0         1         2\n",
       "0  0.344789  0.333262  0.321949\n",
       "1  0.348719  0.340570  0.310710\n",
       "2  0.352257  0.321147  0.326596\n",
       "3  0.346394  0.339137  0.314469\n",
       "4  0.344511  0.338538  0.316951"
      ]
     },
     "execution_count": 20,
     "metadata": {},
     "output_type": "execute_result"
    }
   ],
   "source": [
    "adaboost_probas = adaboost.predict_proba(scale_test_X)\n",
    "probs_df = pd.DataFrame(adaboost_probas)\n",
    "probs_df.head()"
   ]
  },
  {
   "cell_type": "markdown",
   "metadata": {},
   "source": [
    "## Пробежимся по всему датафрейму и оставим в строках только максимумы, остальное заменим нулями."
   ]
  },
  {
   "cell_type": "code",
   "execution_count": 21,
   "metadata": {
    "scrolled": true
   },
   "outputs": [],
   "source": [
    "for index, row in probs_df.iterrows():\n",
    "    for i,prob in enumerate(row):\n",
    "        if prob != max(row): \n",
    "            probs_df.loc[index, i] = 0"
   ]
  },
  {
   "cell_type": "markdown",
   "metadata": {},
   "source": [
    "## Вставим ID:"
   ]
  },
  {
   "cell_type": "code",
   "execution_count": 24,
   "metadata": {},
   "outputs": [
    {
     "data": {
      "text/html": [
       "<div>\n",
       "<style scoped>\n",
       "    .dataframe tbody tr th:only-of-type {\n",
       "        vertical-align: middle;\n",
       "    }\n",
       "\n",
       "    .dataframe tbody tr th {\n",
       "        vertical-align: top;\n",
       "    }\n",
       "\n",
       "    .dataframe thead th {\n",
       "        text-align: right;\n",
       "    }\n",
       "</style>\n",
       "<table border=\"1\" class=\"dataframe\">\n",
       "  <thead>\n",
       "    <tr style=\"text-align: right;\">\n",
       "      <th></th>\n",
       "      <th>0</th>\n",
       "      <th>1</th>\n",
       "      <th>2</th>\n",
       "      <th>ID</th>\n",
       "    </tr>\n",
       "  </thead>\n",
       "  <tbody>\n",
       "    <tr>\n",
       "      <th>0</th>\n",
       "      <td>0.344789</td>\n",
       "      <td>0.0</td>\n",
       "      <td>0.000000</td>\n",
       "      <td>1154270440</td>\n",
       "    </tr>\n",
       "    <tr>\n",
       "      <th>1</th>\n",
       "      <td>0.348719</td>\n",
       "      <td>0.0</td>\n",
       "      <td>0.000000</td>\n",
       "      <td>1147987574</td>\n",
       "    </tr>\n",
       "    <tr>\n",
       "      <th>2</th>\n",
       "      <td>0.352257</td>\n",
       "      <td>0.0</td>\n",
       "      <td>0.000000</td>\n",
       "      <td>1129622364</td>\n",
       "    </tr>\n",
       "    <tr>\n",
       "      <th>3</th>\n",
       "      <td>0.346394</td>\n",
       "      <td>0.0</td>\n",
       "      <td>0.000000</td>\n",
       "      <td>619797496</td>\n",
       "    </tr>\n",
       "    <tr>\n",
       "      <th>4</th>\n",
       "      <td>0.344511</td>\n",
       "      <td>0.0</td>\n",
       "      <td>0.000000</td>\n",
       "      <td>7391484886</td>\n",
       "    </tr>\n",
       "    <tr>\n",
       "      <th>5</th>\n",
       "      <td>0.343760</td>\n",
       "      <td>0.0</td>\n",
       "      <td>0.000000</td>\n",
       "      <td>10165219189</td>\n",
       "    </tr>\n",
       "    <tr>\n",
       "      <th>6</th>\n",
       "      <td>0.345737</td>\n",
       "      <td>0.0</td>\n",
       "      <td>0.000000</td>\n",
       "      <td>741382912</td>\n",
       "    </tr>\n",
       "    <tr>\n",
       "      <th>7</th>\n",
       "      <td>0.343278</td>\n",
       "      <td>0.0</td>\n",
       "      <td>0.000000</td>\n",
       "      <td>1130214814</td>\n",
       "    </tr>\n",
       "    <tr>\n",
       "      <th>8</th>\n",
       "      <td>0.342913</td>\n",
       "      <td>0.0</td>\n",
       "      <td>0.000000</td>\n",
       "      <td>78018389</td>\n",
       "    </tr>\n",
       "    <tr>\n",
       "      <th>9</th>\n",
       "      <td>0.000000</td>\n",
       "      <td>0.0</td>\n",
       "      <td>0.338026</td>\n",
       "      <td>75592880</td>\n",
       "    </tr>\n",
       "  </tbody>\n",
       "</table>\n",
       "</div>"
      ],
      "text/plain": [
       "          0    1         2           ID\n",
       "0  0.344789  0.0  0.000000   1154270440\n",
       "1  0.348719  0.0  0.000000   1147987574\n",
       "2  0.352257  0.0  0.000000   1129622364\n",
       "3  0.346394  0.0  0.000000    619797496\n",
       "4  0.344511  0.0  0.000000   7391484886\n",
       "5  0.343760  0.0  0.000000  10165219189\n",
       "6  0.345737  0.0  0.000000    741382912\n",
       "7  0.343278  0.0  0.000000   1130214814\n",
       "8  0.342913  0.0  0.000000     78018389\n",
       "9  0.000000  0.0  0.338026     75592880"
      ]
     },
     "execution_count": 24,
     "metadata": {},
     "output_type": "execute_result"
    }
   ],
   "source": [
    "probs_df['ID'] = ids\n",
    "probs_df.head(10)"
   ]
  },
  {
   "cell_type": "markdown",
   "metadata": {},
   "source": [
    "## Затем отсортируем по каждому признаку и возьмем срез:"
   ]
  },
  {
   "cell_type": "code",
   "execution_count": 25,
   "metadata": {},
   "outputs": [],
   "source": [
    "segment_1 = probs_df.sort_values(1, ascending = False)[:500]\n",
    "segment_1_output = pd.DataFrame({'ID': segment_1.ID, 'TARGET': 1})\n",
    "\n",
    "segment_2 = probs_df.sort_values(2, ascending = False)[:200]\n",
    "segment_2_output = pd.DataFrame({'ID': segment_2.ID, 'TARGET': 2})"
   ]
  },
  {
   "cell_type": "markdown",
   "metadata": {},
   "source": [
    "## Объединим и выгрузим в файл:"
   ]
  },
  {
   "cell_type": "code",
   "execution_count": 26,
   "metadata": {},
   "outputs": [],
   "source": [
    "segments_output = pd.concat([segment_1_output, segment_2_output], ignore_index=True)\n",
    "segments_output.to_csv(\"contest_segments.csv\", index=False, sep=\",\")"
   ]
  },
  {
   "cell_type": "markdown",
   "metadata": {},
   "source": [
    "### P.S.: Про сегменты ничего более оптимального не придумал, перечитал документацию pandas - решил в лоб. "
   ]
  }
 ],
 "metadata": {
  "kernelspec": {
   "display_name": "Python 3",
   "language": "python",
   "name": "python3"
  },
  "language_info": {
   "codemirror_mode": {
    "name": "ipython",
    "version": 3
   },
   "file_extension": ".py",
   "mimetype": "text/x-python",
   "name": "python",
   "nbconvert_exporter": "python",
   "pygments_lexer": "ipython3",
   "version": "3.7.1"
  }
 },
 "nbformat": 4,
 "nbformat_minor": 2
}
